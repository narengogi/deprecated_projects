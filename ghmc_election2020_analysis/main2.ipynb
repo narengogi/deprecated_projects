{
 "cells": [
  {
   "cell_type": "markdown",
   "metadata": {},
   "source": [
    "##### Import and read statements"
   ]
  },
  {
   "cell_type": "code",
   "execution_count": 3,
   "metadata": {},
   "outputs": [],
   "source": [
    "import pandas as pd\n",
    "import plotly.express as px\n",
    "import plotly.io as pio\n",
    "pio.renderers.default = 'firefox'\n",
    "import json\n",
    "import numpy as np\n",
    "from fuzzywuzzy import process, fuzz "
   ]
  },
  {
   "cell_type": "code",
   "execution_count": 4,
   "metadata": {},
   "outputs": [],
   "source": [
    "land = pd.read_csv('land.csv')\n",
    "results = pd.read_csv('results.csv')\n",
    "geoj = json.load(open('ghmc-wards.geojson', 'r'))"
   ]
  },
  {
   "cell_type": "markdown",
   "metadata": {},
   "source": [
    "##### Data Cleaning"
   ]
  },
  {
   "cell_type": "code",
   "execution_count": 14,
   "metadata": {},
   "outputs": [
    {
     "data": {
      "text/html": [
       "<div>\n",
       "<style scoped>\n",
       "    .dataframe tbody tr th:only-of-type {\n",
       "        vertical-align: middle;\n",
       "    }\n",
       "\n",
       "    .dataframe tbody tr th {\n",
       "        vertical-align: top;\n",
       "    }\n",
       "\n",
       "    .dataframe thead th {\n",
       "        text-align: right;\n",
       "    }\n",
       "</style>\n",
       "<table border=\"1\" class=\"dataframe\">\n",
       "  <thead>\n",
       "    <tr style=\"text-align: right;\">\n",
       "      <th></th>\n",
       "      <th>Unnamed: 0</th>\n",
       "      <th>Name of the Circle</th>\n",
       "      <th>Name of the Ward</th>\n",
       "      <th>BJP</th>\n",
       "      <th>CPI</th>\n",
       "      <th>CPM</th>\n",
       "      <th>INC</th>\n",
       "      <th>AIMIM</th>\n",
       "      <th>TRS</th>\n",
       "      <th>TDP</th>\n",
       "      <th>YSRCP</th>\n",
       "      <th>Other Registered Parties with TSEC</th>\n",
       "      <th>Independents</th>\n",
       "      <th>Total Results declared</th>\n",
       "      <th>id</th>\n",
       "    </tr>\n",
       "  </thead>\n",
       "  <tbody>\n",
       "    <tr>\n",
       "      <th>0</th>\n",
       "      <td>2</td>\n",
       "      <td>Kapra</td>\n",
       "      <td>ward1kapra</td>\n",
       "      <td>0</td>\n",
       "      <td>0</td>\n",
       "      <td>0</td>\n",
       "      <td>0</td>\n",
       "      <td>0</td>\n",
       "      <td>1</td>\n",
       "      <td>0</td>\n",
       "      <td>0</td>\n",
       "      <td>0</td>\n",
       "      <td>0</td>\n",
       "      <td>1</td>\n",
       "      <td>relation/7849497</td>\n",
       "    </tr>\n",
       "    <tr>\n",
       "      <th>1</th>\n",
       "      <td>3</td>\n",
       "      <td>Kapra</td>\n",
       "      <td>ward2drasraonagar</td>\n",
       "      <td>0</td>\n",
       "      <td>0</td>\n",
       "      <td>0</td>\n",
       "      <td>1</td>\n",
       "      <td>0</td>\n",
       "      <td>0</td>\n",
       "      <td>0</td>\n",
       "      <td>0</td>\n",
       "      <td>0</td>\n",
       "      <td>0</td>\n",
       "      <td>1</td>\n",
       "      <td>relation/7849545</td>\n",
       "    </tr>\n",
       "    <tr>\n",
       "      <th>4</th>\n",
       "      <td>6</td>\n",
       "      <td>Kapra</td>\n",
       "      <td>ward5mallapur</td>\n",
       "      <td>0</td>\n",
       "      <td>0</td>\n",
       "      <td>0</td>\n",
       "      <td>0</td>\n",
       "      <td>0</td>\n",
       "      <td>1</td>\n",
       "      <td>0</td>\n",
       "      <td>0</td>\n",
       "      <td>0</td>\n",
       "      <td>0</td>\n",
       "      <td>1</td>\n",
       "      <td>relation/7849614</td>\n",
       "    </tr>\n",
       "    <tr>\n",
       "      <th>5</th>\n",
       "      <td>7</td>\n",
       "      <td>Kapra</td>\n",
       "      <td>ward6nacharam</td>\n",
       "      <td>0</td>\n",
       "      <td>0</td>\n",
       "      <td>0</td>\n",
       "      <td>0</td>\n",
       "      <td>0</td>\n",
       "      <td>1</td>\n",
       "      <td>0</td>\n",
       "      <td>0</td>\n",
       "      <td>0</td>\n",
       "      <td>0</td>\n",
       "      <td>1</td>\n",
       "      <td>relation/7849315</td>\n",
       "    </tr>\n",
       "    <tr>\n",
       "      <th>6</th>\n",
       "      <td>8</td>\n",
       "      <td>Uppal</td>\n",
       "      <td>ward7chilukanagar</td>\n",
       "      <td>0</td>\n",
       "      <td>0</td>\n",
       "      <td>0</td>\n",
       "      <td>0</td>\n",
       "      <td>0</td>\n",
       "      <td>1</td>\n",
       "      <td>0</td>\n",
       "      <td>0</td>\n",
       "      <td>0</td>\n",
       "      <td>0</td>\n",
       "      <td>1</td>\n",
       "      <td>relation/7850095</td>\n",
       "    </tr>\n",
       "  </tbody>\n",
       "</table>\n",
       "</div>"
      ],
      "text/plain": [
       "   Unnamed: 0 Name of the Circle   Name of the Ward  BJP  CPI  CPM  INC  \\\n",
       "0           2              Kapra         ward1kapra    0    0    0    0   \n",
       "1           3              Kapra  ward2drasraonagar    0    0    0    1   \n",
       "4           6              Kapra      ward5mallapur    0    0    0    0   \n",
       "5           7              Kapra      ward6nacharam    0    0    0    0   \n",
       "6           8              Uppal  ward7chilukanagar    0    0    0    0   \n",
       "\n",
       "   AIMIM  TRS  TDP  YSRCP  Other Registered Parties with TSEC  Independents  \\\n",
       "0      0    1    0      0                                   0             0   \n",
       "1      0    0    0      0                                   0             0   \n",
       "4      0    1    0      0                                   0             0   \n",
       "5      0    1    0      0                                   0             0   \n",
       "6      0    1    0      0                                   0             0   \n",
       "\n",
       "   Total Results declared                id  \n",
       "0                       1  relation/7849497  \n",
       "1                       1  relation/7849545  \n",
       "4                       1  relation/7849614  \n",
       "5                       1  relation/7849315  \n",
       "6                       1  relation/7850095  "
      ]
     },
     "execution_count": 14,
     "metadata": {},
     "output_type": "execute_result"
    }
   ],
   "source": [
    "results.head()"
   ]
  },
  {
   "cell_type": "code",
   "execution_count": 6,
   "metadata": {},
   "outputs": [],
   "source": [
    "results['Name of the Ward']=results['Name of the Ward'].apply(lambda x: str(x).replace(\" -\",\"\"))\n",
    "results['Name of the Ward']=results['Name of the Ward'].apply(lambda x: str(x).lower())\n",
    "results['Name of the Ward']=results['Name of the Ward'].apply(lambda x: str(x).replace(\".\",\" \"))"
   ]
  },
  {
   "cell_type": "code",
   "execution_count": 7,
   "metadata": {},
   "outputs": [],
   "source": [
    "results['Name of the Ward']=results['Name of the Ward'].apply(lambda x: str(x).replace(\" \",\"\"))"
   ]
  },
  {
   "cell_type": "markdown",
   "metadata": {},
   "source": [
    "##### Linking the two files"
   ]
  },
  {
   "cell_type": "code",
   "execution_count": 8,
   "metadata": {},
   "outputs": [],
   "source": [
    "ward_id_dict = {}\n",
    "for feature in geoj['features']:\n",
    "    ward_id_dict[feature['properties']['name']] = feature['properties']['@id']"
   ]
  },
  {
   "cell_type": "code",
   "execution_count": 9,
   "metadata": {},
   "outputs": [],
   "source": [
    "ward_id_dict2 = {}\n",
    "for key in ward_id_dict.keys():\n",
    "    ward_id_dict2[key.lower().replace(\" \",\"\")] = ward_id_dict[key]\n",
    "ward_id_dict = ward_id_dict2 "
   ]
  },
  {
   "cell_type": "code",
   "execution_count": 10,
   "metadata": {},
   "outputs": [
    {
     "name": "stderr",
     "output_type": "stream",
     "text": [
      "/home/naren/anaconda3/lib/python3.7/site-packages/ipykernel_launcher.py:9: SettingWithCopyWarning:\n",
      "\n",
      "\n",
      "A value is trying to be set on a copy of a slice from a DataFrame\n",
      "\n",
      "See the caveats in the documentation: https://pandas.pydata.org/pandas-docs/stable/user_guide/indexing.html#returning-a-view-versus-a-copy\n",
      "\n",
      "/home/naren/anaconda3/lib/python3.7/site-packages/ipykernel_launcher.py:13: SettingWithCopyWarning:\n",
      "\n",
      "\n",
      "A value is trying to be set on a copy of a slice from a DataFrame\n",
      "\n",
      "See the caveats in the documentation: https://pandas.pydata.org/pandas-docs/stable/user_guide/indexing.html#returning-a-view-versus-a-copy\n",
      "\n"
     ]
    }
   ],
   "source": [
    "results['id'] = ''\n",
    "keys = ward_id_dict.keys()\n",
    "for i in range(151):\n",
    "    place = results['Name of the Ward'][i]\n",
    "    place = str(place)\n",
    "    temp = [i for i in ward_id_dict.keys()]\n",
    "    temp2 = [i for i in ward_id_dict.values()]\n",
    "    if place in keys:\n",
    "        results['id'][i] = ward_id_dict[place]\n",
    "    else:\n",
    "        for j in range(len(ward_id_dict)):\n",
    "            if fuzz.token_sort_ratio(place, temp[j]) >= 80:\n",
    "                results['id'][i] = temp2[j]\n",
    "                "
   ]
  },
  {
   "cell_type": "code",
   "execution_count": 11,
   "metadata": {},
   "outputs": [
    {
     "data": {
      "text/plain": [
       "0    relation/7849497\n",
       "1    relation/7849545\n",
       "2                    \n",
       "3                    \n",
       "4    relation/7849614\n",
       "Name: id, dtype: object"
      ]
     },
     "execution_count": 11,
     "metadata": {},
     "output_type": "execute_result"
    }
   ],
   "source": [
    "results['id'].head()\n",
    "#results.to_csv('test.csv')"
   ]
  },
  {
   "cell_type": "markdown",
   "metadata": {},
   "source": [
    "##### Further cleaning"
   ]
  },
  {
   "cell_type": "code",
   "execution_count": 12,
   "metadata": {},
   "outputs": [],
   "source": [
    "results['id'].replace('',np.nan, inplace=True)\n",
    "results.dropna(subset=['id'], inplace=True)"
   ]
  },
  {
   "cell_type": "markdown",
   "metadata": {},
   "source": [
    "##### Finallyyyy, the plotting part!!!"
   ]
  },
  {
   "cell_type": "code",
   "execution_count": 15,
   "metadata": {},
   "outputs": [],
   "source": [
    "fig = px.scatter_geo(results, geojson=geoj, color='TRS')\n",
    "fig.update_geos(fitbounds=\"locations\", visible=True)\n",
    "fig.show()"
   ]
  },
  {
   "cell_type": "code",
   "execution_count": null,
   "metadata": {},
   "outputs": [],
   "source": []
  }
 ],
 "metadata": {
  "kernelspec": {
   "display_name": "Python 3",
   "language": "python",
   "name": "python3"
  },
  "language_info": {
   "codemirror_mode": {
    "name": "ipython",
    "version": 3
   },
   "file_extension": ".py",
   "mimetype": "text/x-python",
   "name": "python",
   "nbconvert_exporter": "python",
   "pygments_lexer": "ipython3",
   "version": "3.7.6"
  }
 },
 "nbformat": 4,
 "nbformat_minor": 4
}
